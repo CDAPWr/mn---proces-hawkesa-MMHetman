{
 "cells": [
  {
   "cell_type": "code",
   "execution_count": 62,
   "metadata": {},
   "outputs": [],
   "source": [
    "import json\n",
    "import pandas as pd\n",
    "import numpy as np"
   ]
  },
  {
   "cell_type": "code",
   "execution_count": 53,
   "metadata": {},
   "outputs": [],
   "source": [
    "files = [f'cegielka{i}_{j}.json' for i in [1,2] for j in [1,2,3,4]]"
   ]
  },
  {
   "cell_type": "code",
   "execution_count": 54,
   "metadata": {},
   "outputs": [],
   "source": [
    "data = []\n",
    "\n",
    "for file in files:\n",
    "    with open(file) as f:\n",
    "        data += json.load(f)['items']\n",
    "        \n",
    "snippets = [item['snippet']['topLevelComment']['snippet'] for item in data]\n",
    "\n",
    "replies = []\n",
    "for item in data:\n",
    "    if item.get('replies') and item['replies'].get('comments'):\n",
    "        replies += [comment['snippet'] for comment in item['replies']['comments']]"
   ]
  },
  {
   "cell_type": "code",
   "execution_count": 55,
   "metadata": {},
   "outputs": [
    {
     "name": "stdout",
     "output_type": "stream",
     "text": [
      "dict_keys(['videoId', 'textDisplay', 'textOriginal', 'authorDisplayName', 'authorProfileImageUrl', 'authorChannelUrl', 'authorChannelId', 'canRate', 'viewerRating', 'likeCount', 'publishedAt', 'updatedAt'])\n",
      "dict_keys(['videoId', 'textDisplay', 'textOriginal', 'parentId', 'authorDisplayName', 'authorProfileImageUrl', 'authorChannelUrl', 'authorChannelId', 'canRate', 'viewerRating', 'likeCount', 'publishedAt', 'updatedAt'])\n"
     ]
    }
   ],
   "source": [
    "print(snippets[0].keys())\n",
    "print(replies[0].keys())"
   ]
  },
  {
   "cell_type": "code",
   "execution_count": 56,
   "metadata": {},
   "outputs": [
    {
     "data": {
      "text/html": [
       "<div>\n",
       "<style scoped>\n",
       "    .dataframe tbody tr th:only-of-type {\n",
       "        vertical-align: middle;\n",
       "    }\n",
       "\n",
       "    .dataframe tbody tr th {\n",
       "        vertical-align: top;\n",
       "    }\n",
       "\n",
       "    .dataframe thead th {\n",
       "        text-align: right;\n",
       "    }\n",
       "</style>\n",
       "<table border=\"1\" class=\"dataframe\">\n",
       "  <thead>\n",
       "    <tr style=\"text-align: right;\">\n",
       "      <th></th>\n",
       "      <th>videoId</th>\n",
       "      <th>publishedAt</th>\n",
       "    </tr>\n",
       "  </thead>\n",
       "  <tbody>\n",
       "    <tr>\n",
       "      <th>0</th>\n",
       "      <td>DtxWm-IYqEU</td>\n",
       "      <td>2022-05-07T16:51:04Z</td>\n",
       "    </tr>\n",
       "    <tr>\n",
       "      <th>1</th>\n",
       "      <td>DtxWm-IYqEU</td>\n",
       "      <td>2022-10-18T17:27:47Z</td>\n",
       "    </tr>\n",
       "    <tr>\n",
       "      <th>2</th>\n",
       "      <td>DtxWm-IYqEU</td>\n",
       "      <td>2022-09-09T20:00:21Z</td>\n",
       "    </tr>\n",
       "    <tr>\n",
       "      <th>3</th>\n",
       "      <td>DtxWm-IYqEU</td>\n",
       "      <td>2022-09-04T20:21:28Z</td>\n",
       "    </tr>\n",
       "    <tr>\n",
       "      <th>4</th>\n",
       "      <td>DtxWm-IYqEU</td>\n",
       "      <td>2022-09-04T18:33:28Z</td>\n",
       "    </tr>\n",
       "    <tr>\n",
       "      <th>...</th>\n",
       "      <td>...</td>\n",
       "      <td>...</td>\n",
       "    </tr>\n",
       "    <tr>\n",
       "      <th>877</th>\n",
       "      <td>90LN0_TV8Vk</td>\n",
       "      <td>2022-09-30T04:50:45Z</td>\n",
       "    </tr>\n",
       "    <tr>\n",
       "      <th>878</th>\n",
       "      <td>90LN0_TV8Vk</td>\n",
       "      <td>2022-09-26T18:27:43Z</td>\n",
       "    </tr>\n",
       "    <tr>\n",
       "      <th>879</th>\n",
       "      <td>90LN0_TV8Vk</td>\n",
       "      <td>2022-09-25T15:39:07Z</td>\n",
       "    </tr>\n",
       "    <tr>\n",
       "      <th>880</th>\n",
       "      <td>90LN0_TV8Vk</td>\n",
       "      <td>2022-09-25T12:35:30Z</td>\n",
       "    </tr>\n",
       "    <tr>\n",
       "      <th>881</th>\n",
       "      <td>90LN0_TV8Vk</td>\n",
       "      <td>2022-09-25T12:34:39Z</td>\n",
       "    </tr>\n",
       "  </tbody>\n",
       "</table>\n",
       "<p>882 rows × 2 columns</p>\n",
       "</div>"
      ],
      "text/plain": [
       "         videoId           publishedAt\n",
       "0    DtxWm-IYqEU  2022-05-07T16:51:04Z\n",
       "1    DtxWm-IYqEU  2022-10-18T17:27:47Z\n",
       "2    DtxWm-IYqEU  2022-09-09T20:00:21Z\n",
       "3    DtxWm-IYqEU  2022-09-04T20:21:28Z\n",
       "4    DtxWm-IYqEU  2022-09-04T18:33:28Z\n",
       "..           ...                   ...\n",
       "877  90LN0_TV8Vk  2022-09-30T04:50:45Z\n",
       "878  90LN0_TV8Vk  2022-09-26T18:27:43Z\n",
       "879  90LN0_TV8Vk  2022-09-25T15:39:07Z\n",
       "880  90LN0_TV8Vk  2022-09-25T12:35:30Z\n",
       "881  90LN0_TV8Vk  2022-09-25T12:34:39Z\n",
       "\n",
       "[882 rows x 2 columns]"
      ]
     },
     "execution_count": 56,
     "metadata": {},
     "output_type": "execute_result"
    }
   ],
   "source": [
    "dataset = pd.DataFrame(snippets + replies)\n",
    "dataset[['videoId', 'publishedAt']]"
   ]
  },
  {
   "cell_type": "code",
   "execution_count": 64,
   "metadata": {},
   "outputs": [],
   "source": [
    "dataset['timestamp'] = pd.to_datetime(dataset.publishedAt).values.astype(np.int64) // 10 ** 9"
   ]
  },
  {
   "cell_type": "code",
   "execution_count": 65,
   "metadata": {},
   "outputs": [],
   "source": [
    "dataset.to_csv('cegielka_comments.csv')"
   ]
  }
 ],
 "metadata": {
  "kernelspec": {
   "display_name": "Python 3",
   "language": "python",
   "name": "python3"
  },
  "language_info": {
   "codemirror_mode": {
    "name": "ipython",
    "version": 3
   },
   "file_extension": ".py",
   "mimetype": "text/x-python",
   "name": "python",
   "nbconvert_exporter": "python",
   "pygments_lexer": "ipython3",
   "version": "3.8.5"
  }
 },
 "nbformat": 4,
 "nbformat_minor": 4
}
